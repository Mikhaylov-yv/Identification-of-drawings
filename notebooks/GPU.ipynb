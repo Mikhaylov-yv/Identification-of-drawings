{
 "cells": [
  {
   "cell_type": "code",
   "execution_count": 1,
   "id": "1f180db9-220d-44bc-b5f0-69a8755a257b",
   "metadata": {},
   "outputs": [
    {
     "name": "stdout",
     "output_type": "stream",
     "text": [
      "Please install GPU version of TF\n"
     ]
    }
   ],
   "source": [
    "import tensorflow as tf\n",
    "if tf.test.gpu_device_name():\n",
    "    print('Default GPU Device: {}'.format(tf.test.gpu_device_name()))\n",
    "else:\n",
    "    print(\"Please install GPU version of TF\")"
   ]
  },
  {
   "cell_type": "markdown",
   "id": "aa24f4fd-96b8-4f97-91b4-e2d1fd80a2b2",
   "metadata": {},
   "source": [
    "## Модель видеокарты\n",
    "\n",
    "NVIDIA GeForce GT 750M"
   ]
  },
  {
   "cell_type": "markdown",
   "id": "1263e879-e15c-4cd3-b678-c0459bbfe5fc",
   "metadata": {},
   "source": [
    "(venv) C:\\Users\\uriks>nvcc -V\n",
    "\n",
    "    nvcc: NVIDIA (R) Cuda compiler driver\n",
    "\n",
    "    Copyright (c) 2005-2021 NVIDIA Corporation\n",
    "\n",
    "    Built on Wed_Jul_14_19:47:52_Pacific_Daylight_Time_2021\n",
    "\n",
    "    Cuda compilation tools, release 11.4, V11.4.100\n",
    "\n",
    "    Build cuda_11.4.r11.4/compiler.30188945_0"
   ]
  },
  {
   "cell_type": "markdown",
   "id": "bc305521-34c0-4d53-a65f-ee3a07d729c4",
   "metadata": {},
   "source": [
    "cuda_path = C:\\Program Files\\NVIDIA GPU Computing Toolkit\\CUDA\\v11.4"
   ]
  },
  {
   "cell_type": "code",
   "execution_count": 2,
   "id": "490a8f9d-280b-41a0-9bda-8d480c33090a",
   "metadata": {},
   "outputs": [
    {
     "data": {
      "text/plain": [
       "[PhysicalDevice(name='/physical_device:CPU:0', device_type='CPU')]"
      ]
     },
     "execution_count": 2,
     "metadata": {},
     "output_type": "execute_result"
    }
   ],
   "source": [
    "# Доступные для вычислений устройства в ПК\n",
    "tf.config.list_physical_devices()"
   ]
  },
  {
   "cell_type": "code",
   "execution_count": 3,
   "id": "97c20c3f-3056-4de5-b5c0-62f6833ed325",
   "metadata": {},
   "outputs": [
    {
     "name": "stdout",
     "output_type": "stream",
     "text": [
      "Package                  Version\n",
      "------------------------ -----------------------------------------\n",
      "absl-py                  0.12.0\n",
      "anyio                    3.2.1\n",
      "argon2-cffi              20.1.0\n",
      "astunparse               1.6.3\n",
      "async-generator          1.10\n",
      "atomicwrites             1.4.0\n",
      "attrs                    21.2.0\n",
      "Babel                    2.9.1\n",
      "backcall                 0.2.0\n",
      "bleach                   3.3.1\n",
      "cachetools               4.2.2\n",
      "certifi                  2021.5.30\n",
      "cffi                     1.14.6\n",
      "charset-normalizer       2.0.3\n",
      "clang                    5.0\n",
      "colorama                 0.4.4\n",
      "cycler                   0.10.0\n",
      "debugpy                  1.3.0\n",
      "decorator                5.0.9\n",
      "defusedxml               0.7.1\n",
      "dill                     0.3.4\n",
      "efficientnet             1.0.0\n",
      "entrypoints              0.3\n",
      "essential-generators     1.0\n",
      "flatbuffers              1.12\n",
      "fonttools                4.26.2\n",
      "future                   0.18.2\n",
      "gast                     0.4.0\n",
      "google-auth              1.33.0\n",
      "google-auth-oauthlib     0.4.4\n",
      "google-pasta             0.2.0\n",
      "googleapis-common-protos 1.53.0\n",
      "grpcio                   1.39.0\n",
      "h5py                     3.1.0\n",
      "idna                     3.2\n",
      "imageio                  2.9.0\n",
      "imgaug                   0.4.0\n",
      "iniconfig                1.1.1\n",
      "ipykernel                6.0.3\n",
      "ipython                  7.25.0\n",
      "ipython-genutils         0.2.0\n",
      "ipywidgets               7.6.3\n",
      "jedi                     0.18.0\n",
      "Jinja2                   3.0.1\n",
      "joblib                   1.0.1\n",
      "json5                    0.9.6\n",
      "jsonschema               3.2.0\n",
      "jupyter-client           6.2.0\n",
      "jupyter-core             4.7.1\n",
      "jupyter-server           1.10.2\n",
      "jupyterlab               3.0.16\n",
      "jupyterlab-pygments      0.1.2\n",
      "jupyterlab-server        2.7.1\n",
      "jupyterlab-widgets       1.0.0\n",
      "keras                    2.6.0\n",
      "Keras-Applications       1.0.8\n",
      "keras-nightly            2.5.0.dev2021032900\n",
      "Keras-Preprocessing      1.1.2\n",
      "kiwisolver               1.3.1\n",
      "Markdown                 3.3.4\n",
      "MarkupSafe               2.0.1\n",
      "matplotlib               3.4.3\n",
      "matplotlib-inline        0.1.2\n",
      "mistune                  0.8.4\n",
      "nbclassic                0.3.1\n",
      "nbclient                 0.5.3\n",
      "nbconvert                6.1.0\n",
      "nbformat                 5.1.3\n",
      "nest-asyncio             1.5.1\n",
      "networkx                 2.6.2\n",
      "notebook                 6.4.0\n",
      "numpy                    1.19.5\n",
      "oauthlib                 3.1.1\n",
      "opencv-python            4.5.3.56\n",
      "opt-einsum               3.3.0\n",
      "packaging                21.0\n",
      "pandas                   1.3.0\n",
      "pandocfilters            1.4.3\n",
      "parso                    0.8.2\n",
      "pickleshare              0.7.5\n",
      "Pillow                   8.3.1\n",
      "pip                      21.2.4\n",
      "pluggy                   0.13.1\n",
      "prometheus-client        0.11.0Note: you may need to restart the kernel to use updated packages.\n",
      "promise                  2.3\n",
      "prompt-toolkit           3.0.19\n",
      "protobuf                 3.17.3\n",
      "py                       1.10.0\n",
      "\n",
      "pyasn1                   0.4.8\n",
      "pyasn1-modules           0.2.8\n",
      "pyclipper                1.3.0\n",
      "pycparser                2.20\n",
      "Pygments                 2.9.0\n",
      "pyparsing                2.4.7\n",
      "pyrsistent               0.18.0\n",
      "pytest                   6.2.4\n",
      "python-dateutil          2.8.2\n",
      "pytz                     2021.1\n",
      "PyWavelets               1.1.1\n",
      "pywin32                  301\n",
      "pywinpty                 1.1.3\n",
      "pyzmq                    22.1.0\n",
      "requests                 2.26.0\n",
      "requests-oauthlib        1.3.0\n",
      "requests-unixsocket      0.2.0\n",
      "rsa                      4.7.2\n",
      "scikit-image             0.18.2\n",
      "scikit-learn             0.24.2\n",
      "scipy                    1.7.0\n",
      "Send2Trash               1.7.1\n",
      "setuptools               57.4.0\n",
      "Shapely                  1.7.1\n",
      "six                      1.15.0\n",
      "sniffio                  1.2.0\n",
      "tensorboard              2.6.0\n",
      "tensorboard-data-server  0.6.1\n",
      "tensorboard-plugin-wit   1.8.0\n",
      "tensorflow               2.6.0\n",
      "tensorflow-datasets      4.3.0\n",
      "tensorflow-estimator     2.6.0\n",
      "tensorflow-examples      5c4d9ef354e4843ce1528070e8de35a50f6e3372-\n",
      "tensorflow-gpu           2.6.0\n",
      "tensorflow-metadata      1.1.0\n",
      "termcolor                1.1.0\n",
      "terminado                0.10.1\n",
      "testpath                 0.5.0\n",
      "threadpoolctl            2.2.0\n",
      "tifffile                 2021.8.8\n",
      "toml                     0.10.2\n",
      "tornado                  6.1\n",
      "tqdm                     4.61.2\n",
      "traitlets                5.0.5\n",
      "typing-extensions        3.7.4.3\n",
      "urllib3                  1.26.6\n",
      "validators               0.18.2\n",
      "wcwidth                  0.2.5\n",
      "webencodings             0.5.1\n",
      "websocket-client         1.1.0\n",
      "Werkzeug                 2.0.1\n",
      "wheel                    0.36.2\n",
      "widgetsnbextension       3.5.1\n",
      "wrapt                    1.12.1\n"
     ]
    }
   ],
   "source": [
    "%pip list"
   ]
  },
  {
   "cell_type": "code",
   "execution_count": 5,
   "id": "a25edbf5-7eb2-4ca8-b26e-5bfc9f73ac24",
   "metadata": {},
   "outputs": [
    {
     "name": "stdout",
     "output_type": "stream",
     "text": [
      "cpu_compiler :\t C:/Program Files (x86)/Microsoft Visual Studio/2019/Community/VC/Tools/MSVC/14.27.29110/bin/HostX64/x64/cl.exe\n",
      "cuda_compute_capabilities :\t ['sm_35', 'sm_50', 'sm_60', 'sm_70', 'sm_75', 'compute_80']\n",
      "cuda_version :\t 64_112\n",
      "cudart_dll_name :\t cudart64_112.dll\n",
      "cudnn_dll_name :\t cudnn64_8.dll\n",
      "cudnn_version :\t 64_8\n",
      "is_cuda_build :\t True\n",
      "is_rocm_build :\t False\n",
      "is_tensorrt_build :\t False\n",
      "msvcp_dll_names :\t msvcp140.dll,msvcp140_1.dll\n",
      "nvcuda_dll_name :\t nvcuda.dll\n"
     ]
    }
   ],
   "source": [
    "import tensorflow.python.platform.build_info as build\n",
    "for text in build.build_info:\n",
    "    print(text,':\\t', build.build_info[text])"
   ]
  },
  {
   "cell_type": "code",
   "execution_count": null,
   "id": "ff923c3b-662d-4c05-82ee-132d79888b1f",
   "metadata": {},
   "outputs": [],
   "source": []
  }
 ],
 "metadata": {
  "kernelspec": {
   "display_name": "Python 3 (ipykernel)",
   "language": "python",
   "name": "python3"
  },
  "language_info": {
   "codemirror_mode": {
    "name": "ipython",
    "version": 3
   },
   "file_extension": ".py",
   "mimetype": "text/x-python",
   "name": "python",
   "nbconvert_exporter": "python",
   "pygments_lexer": "ipython3",
   "version": "3.9.6"
  }
 },
 "nbformat": 4,
 "nbformat_minor": 5
}
