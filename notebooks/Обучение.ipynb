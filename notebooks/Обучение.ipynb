{
 "cells": [
  {
   "cell_type": "code",
   "execution_count": 1,
   "id": "a431ffa1-803b-458c-9510-55c00bd1a191",
   "metadata": {},
   "outputs": [],
   "source": [
    "from tensorflow.keras.applications import VGG16\n",
    "from tensorflow.keras.layers import Flatten\n",
    "from tensorflow.keras.layers import Dense\n",
    "from tensorflow.keras.layers import Input\n",
    "from tensorflow.keras.models import Model\n",
    "from tensorflow.keras.optimizers import Adam\n",
    "from tensorflow.keras.preprocessing.image import img_to_array\n",
    "from tensorflow.keras.preprocessing.image import load_img\n",
    "from sklearn.model_selection import train_test_split\n",
    "import matplotlib.pyplot as plt\n",
    "import numpy as np\n",
    "import cv2\n",
    "import os\n",
    "\n",
    "import PIL\n",
    "import PIL.Image\n",
    "from PIL import Image\n",
    "import matplotlib.pyplot as plt\n",
    "import matplotlib.patches as patches"
   ]
  },
  {
   "cell_type": "code",
   "execution_count": 2,
   "id": "79353be3-dc58-474c-b809-53624f142a6c",
   "metadata": {},
   "outputs": [],
   "source": [
    "import sys\n",
    "sys.path.append('..')\n",
    "\n",
    "from scr import train"
   ]
  },
  {
   "cell_type": "code",
   "execution_count": 3,
   "id": "dd37ae12-a4ad-4b18-b2ef-9049a155d4c8",
   "metadata": {},
   "outputs": [],
   "source": [
    "images_path = '../data/dataset/dataset/training_data/images'"
   ]
  },
  {
   "cell_type": "code",
   "execution_count": 4,
   "id": "6412f6d6-ee9d-47ca-af38-34f513ecf4d5",
   "metadata": {},
   "outputs": [
    {
     "name": "stderr",
     "output_type": "stream",
     "text": [
      "C:\\Users\\uriks\\AppData\\Local\\Temp/ipykernel_4076/762169767.py:2: UserWarning: This pattern has match groups. To actually get the groups, use str.extract.\n",
      "  train_df = train_df[(train_df.label == 'other')&(train_df.text.str.contains('(^\\d{5,10})|(\\d{5,10}$)'))]\n"
     ]
    },
    {
     "data": {
      "text/html": [
       "<div>\n",
       "<style scoped>\n",
       "    .dataframe tbody tr th:only-of-type {\n",
       "        vertical-align: middle;\n",
       "    }\n",
       "\n",
       "    .dataframe tbody tr th {\n",
       "        vertical-align: top;\n",
       "    }\n",
       "\n",
       "    .dataframe thead th {\n",
       "        text-align: right;\n",
       "    }\n",
       "</style>\n",
       "<table border=\"1\" class=\"dataframe\">\n",
       "  <thead>\n",
       "    <tr style=\"text-align: right;\">\n",
       "      <th></th>\n",
       "      <th>box</th>\n",
       "      <th>text</th>\n",
       "      <th>label</th>\n",
       "      <th>words</th>\n",
       "      <th>linking</th>\n",
       "      <th>id</th>\n",
       "      <th>fil_name</th>\n",
       "    </tr>\n",
       "  </thead>\n",
       "  <tbody>\n",
       "    <tr>\n",
       "      <th>8</th>\n",
       "      <td>[525, 904, 641, 926]</td>\n",
       "      <td>597005708</td>\n",
       "      <td>other</td>\n",
       "      <td>[{'box': [525, 904, 641, 926], 'text': '597005...</td>\n",
       "      <td>[]</td>\n",
       "      <td>8</td>\n",
       "      <td>0000971160</td>\n",
       "    </tr>\n",
       "    <tr>\n",
       "      <th>29</th>\n",
       "      <td>[533, 829, 653, 853]</td>\n",
       "      <td>620419245</td>\n",
       "      <td>other</td>\n",
       "      <td>[{'box': [533, 829, 653, 853], 'text': '620419...</td>\n",
       "      <td>[]</td>\n",
       "      <td>29</td>\n",
       "      <td>0000989556</td>\n",
       "    </tr>\n",
       "    <tr>\n",
       "      <th>32</th>\n",
       "      <td>[72, 804, 111, 816]</td>\n",
       "      <td>05045</td>\n",
       "      <td>other</td>\n",
       "      <td>[{'box': [72, 804, 111, 816], 'text': '05045'}]</td>\n",
       "      <td>[]</td>\n",
       "      <td>32</td>\n",
       "      <td>0000989556</td>\n",
       "    </tr>\n",
       "    <tr>\n",
       "      <th>10</th>\n",
       "      <td>[501, 839, 623, 871]</td>\n",
       "      <td>620429480</td>\n",
       "      <td>other</td>\n",
       "      <td>[{'box': [501, 839, 623, 871], 'text': '620429...</td>\n",
       "      <td>[]</td>\n",
       "      <td>10</td>\n",
       "      <td>0000990274</td>\n",
       "    </tr>\n",
       "    <tr>\n",
       "      <th>119</th>\n",
       "      <td>[550, 883, 675, 904]</td>\n",
       "      <td>620915734</td>\n",
       "      <td>other</td>\n",
       "      <td>[{'box': [550, 883, 675, 904], 'text': '620915...</td>\n",
       "      <td>[]</td>\n",
       "      <td>119</td>\n",
       "      <td>0000999294</td>\n",
       "    </tr>\n",
       "    <tr>\n",
       "      <th>...</th>\n",
       "      <td>...</td>\n",
       "      <td>...</td>\n",
       "      <td>...</td>\n",
       "      <td>...</td>\n",
       "      <td>...</td>\n",
       "      <td>...</td>\n",
       "      <td>...</td>\n",
       "    </tr>\n",
       "    <tr>\n",
       "      <th>10</th>\n",
       "      <td>[689, 797, 703, 870]</td>\n",
       "      <td>92657391</td>\n",
       "      <td>other</td>\n",
       "      <td>[{'box': [689, 797, 703, 870], 'text': '926573...</td>\n",
       "      <td>[]</td>\n",
       "      <td>10</td>\n",
       "      <td>92657391</td>\n",
       "    </tr>\n",
       "    <tr>\n",
       "      <th>31</th>\n",
       "      <td>[683, 785, 698, 853]</td>\n",
       "      <td>93213298</td>\n",
       "      <td>other</td>\n",
       "      <td>[{'box': [683, 785, 698, 853], 'text': '932132...</td>\n",
       "      <td>[]</td>\n",
       "      <td>31</td>\n",
       "      <td>93213298</td>\n",
       "    </tr>\n",
       "    <tr>\n",
       "      <th>4</th>\n",
       "      <td>[735, 799, 753, 870]</td>\n",
       "      <td>93329540</td>\n",
       "      <td>other</td>\n",
       "      <td>[{'box': [735, 799, 753, 870], 'text': '933295...</td>\n",
       "      <td>[]</td>\n",
       "      <td>4</td>\n",
       "      <td>93329540</td>\n",
       "    </tr>\n",
       "    <tr>\n",
       "      <th>11</th>\n",
       "      <td>[716, 825, 736, 905]</td>\n",
       "      <td>93351929</td>\n",
       "      <td>other</td>\n",
       "      <td>[{'box': [716, 825, 736, 905], 'text': '933519...</td>\n",
       "      <td>[]</td>\n",
       "      <td>11</td>\n",
       "      <td>93351929_93351931</td>\n",
       "    </tr>\n",
       "    <tr>\n",
       "      <th>3</th>\n",
       "      <td>[681, 810, 699, 903]</td>\n",
       "      <td>93455715</td>\n",
       "      <td>other</td>\n",
       "      <td>[{'box': [681, 810, 699, 903], 'text': '934557...</td>\n",
       "      <td>[]</td>\n",
       "      <td>3</td>\n",
       "      <td>93455715</td>\n",
       "    </tr>\n",
       "  </tbody>\n",
       "</table>\n",
       "<p>142 rows × 7 columns</p>\n",
       "</div>"
      ],
      "text/plain": [
       "                      box       text  label  \\\n",
       "8    [525, 904, 641, 926]  597005708  other   \n",
       "29   [533, 829, 653, 853]  620419245  other   \n",
       "32    [72, 804, 111, 816]      05045  other   \n",
       "10   [501, 839, 623, 871]  620429480  other   \n",
       "119  [550, 883, 675, 904]  620915734  other   \n",
       "..                    ...        ...    ...   \n",
       "10   [689, 797, 703, 870]   92657391  other   \n",
       "31   [683, 785, 698, 853]   93213298  other   \n",
       "4    [735, 799, 753, 870]   93329540  other   \n",
       "11   [716, 825, 736, 905]   93351929  other   \n",
       "3    [681, 810, 699, 903]   93455715  other   \n",
       "\n",
       "                                                 words linking   id  \\\n",
       "8    [{'box': [525, 904, 641, 926], 'text': '597005...      []    8   \n",
       "29   [{'box': [533, 829, 653, 853], 'text': '620419...      []   29   \n",
       "32     [{'box': [72, 804, 111, 816], 'text': '05045'}]      []   32   \n",
       "10   [{'box': [501, 839, 623, 871], 'text': '620429...      []   10   \n",
       "119  [{'box': [550, 883, 675, 904], 'text': '620915...      []  119   \n",
       "..                                                 ...     ...  ...   \n",
       "10   [{'box': [689, 797, 703, 870], 'text': '926573...      []   10   \n",
       "31   [{'box': [683, 785, 698, 853], 'text': '932132...      []   31   \n",
       "4    [{'box': [735, 799, 753, 870], 'text': '933295...      []    4   \n",
       "11   [{'box': [716, 825, 736, 905], 'text': '933519...      []   11   \n",
       "3    [{'box': [681, 810, 699, 903], 'text': '934557...      []    3   \n",
       "\n",
       "              fil_name  \n",
       "8           0000971160  \n",
       "29          0000989556  \n",
       "32          0000989556  \n",
       "10          0000990274  \n",
       "119         0000999294  \n",
       "..                 ...  \n",
       "10            92657391  \n",
       "31            93213298  \n",
       "4             93329540  \n",
       "11   93351929_93351931  \n",
       "3             93455715  \n",
       "\n",
       "[142 rows x 7 columns]"
      ]
     },
     "execution_count": 4,
     "metadata": {},
     "output_type": "execute_result"
    }
   ],
   "source": [
    "train_df = train.Train().get_annotation()\n",
    "train_df = train_df[(train_df.label == 'other')&(train_df.text.str.contains('(^\\d{5,10})|(\\d{5,10}$)'))]\n",
    "train_df"
   ]
  },
  {
   "cell_type": "code",
   "execution_count": 5,
   "id": "fdd35c8f-f121-4c47-a859-8c26e43632bc",
   "metadata": {},
   "outputs": [],
   "source": [
    "data = []\n",
    "targets = []\n",
    "filenames = []\n",
    "\n",
    "sithe = 512\n",
    "\n",
    "for name in train_df.fil_name.unique():\n",
    "    filename = name + '.png'\n",
    "    image_path = f'{images_path}/{filename}'\n",
    "    image = cv2.imread(image_path)    \n",
    "    (h, w) = image.shape[:2]\n",
    "    \n",
    "    row = train_df.loc[train_df.fil_name == name, 'box'].max()\n",
    "    (startX, startY, endX, endY) = row\n",
    "    startX = float(startX) / w\n",
    "    startY = float(startY) / h\n",
    "    endX = float(endX) / w\n",
    "    endY = float(endY) / h\n",
    "    \n",
    "    image = load_img(image_path, target_size=(sithe, sithe))\n",
    "    image = img_to_array(image)\n",
    "    \n",
    "    data.append(image)\n",
    "    targets.append((startX, startY, endX, endY))\n",
    "    filenames.append(filename)\n",
    "# data, '\\n', targets, '\\n',  filenames\n",
    "    "
   ]
  },
  {
   "cell_type": "code",
   "execution_count": 6,
   "id": "5fc40b7e-5ee3-4cae-a619-629bf5a67aec",
   "metadata": {},
   "outputs": [
    {
     "name": "stderr",
     "output_type": "stream",
     "text": [
      "Clipping input data to the valid range for imshow with RGB data ([0..1] for floats or [0..255] for integers).\n"
     ]
    },
    {
     "name": "stdout",
     "output_type": "stream",
     "text": [
      "512 512\n",
      "0.6889763779527559 0.904 0.8412073490813649 0.926\n",
      "352.755905511811 462.848 77.94225721784778 11.26400000000001\n"
     ]
    },
    {
     "data": {
      "image/png": "[encoded data removed]",
      "text/plain": [
       "<Figure size 864x864 with 1 Axes>"
      ]
     },
     "metadata": {
      "needs_background": "light"
     },
     "output_type": "display_data"
    }
   ],
   "source": [
    "i = 0\n",
    "fig,ax = plt.subplots(figsize=(12, 12))\n",
    "plt.imshow(data[i], cmap=\"binary\")\n",
    "H, W, _ = data[i].shape\n",
    "print(W, H)\n",
    "startX, startY, endX, endY = targets[i]\n",
    "print(startX, startY, endX, endY)\n",
    "x = startX * W\n",
    "y = startY * H\n",
    "w = (endX - startX) * W\n",
    "h = (endY - startY) * H\n",
    "\n",
    "rect = patches.Rectangle((x, y), w , h, lw=2,\n",
    "                                 ec ='b', facecolor='none')\n",
    "print(x, y, w, h)\n",
    "ax.add_patch(rect)\n",
    "plt.show()"
   ]
  },
  {
   "cell_type": "code",
   "execution_count": 7,
   "id": "31dd6aed-705a-48b3-ab9e-223f6c9191fb",
   "metadata": {},
   "outputs": [],
   "source": [
    "data = np.array(data, dtype=\"float32\") / 255.0\n",
    "targets = np.array(targets, dtype=\"float32\")\n",
    "split = train_test_split(data, targets, filenames, test_size=0.10,\n",
    "\trandom_state=42)\n",
    "(trainImages, testImages) = split[:2]\n",
    "(trainTargets, testTargets) = split[2:4]\n",
    "(trainFilenames, testFilenames) = split[4:]"
   ]
  },
  {
   "cell_type": "code",
   "execution_count": 1,
   "id": "02bb44d3-c3bb-432e-8b01-24f2a01331a7",
   "metadata": {},
   "outputs": [
    {
     "ename": "NameError",
     "evalue": "name 'VGG16' is not defined",
     "output_type": "error",
     "traceback": [
      "\u001b[1;31m---------------------------------------------------------------------------\u001b[0m",
      "\u001b[1;31mNameError\u001b[0m                                 Traceback (most recent call last)",
      "\u001b[1;32m~\\AppData\\Local\\Temp/ipykernel_8564/3105946445.py\u001b[0m in \u001b[0;36m<module>\u001b[1;34m\u001b[0m\n\u001b[1;32m----> 1\u001b[1;33m vgg = VGG16(weights=\"imagenet\", include_top=False,\n\u001b[0m\u001b[0;32m      2\u001b[0m \tinput_tensor=Input(shape=(sithe, sithe, 3)))\n",
      "\u001b[1;31mNameError\u001b[0m: name 'VGG16' is not defined"
     ]
    }
   ],
   "source": [
    "vgg = VGG16(weights=\"imagenet\", include_top=False,\n",
    "\tinput_tensor=Input(shape=(sithe, sithe, 3)))"
   ]
  },
  {
   "cell_type": "code",
   "execution_count": 9,
   "id": "faafd1ad-330f-461f-8195-95ca04ac819b",
   "metadata": {},
   "outputs": [],
   "source": [
    "vgg.trainable = False\n",
    "flatten = vgg.output\n",
    "flatten = Flatten()(flatten)\n",
    "bboxHead = Dense(256, activation=\"relu\")(flatten)\n",
    "bboxHead = Dense(128, activation=\"relu\")(flatten)\n",
    "bboxHead = Dense(64, activation=\"relu\")(bboxHead)\n",
    "bboxHead = Dense(32, activation=\"relu\")(bboxHead)\n",
    "bboxHead = Dense(4, activation=\"sigmoid\")(bboxHead)\n",
    "model = Model(inputs=vgg.input, \n",
    "              outputs=bboxHead\n",
    "             )"
   ]
  },
  {
   "cell_type": "code",
   "execution_count": 10,
   "id": "433026cf-9584-4234-8e25-0b1ba125896c",
   "metadata": {
    "tags": []
   },
   "outputs": [],
   "source": [
    "opt = Adam(\n",
    "    learning_rate = 1e-4\n",
    ")\n",
    "model.compile(loss=\"mse\", optimizer=opt)\n",
    "# print(model.summary())"
   ]
  },
  {
   "cell_type": "code",
   "execution_count": 11,
   "id": "c839db9c-f8ee-4ac4-a0cd-1c5f69f5f084",
   "metadata": {},
   "outputs": [
    {
     "data": {
      "text/plain": [
       "(512, 512, 3)"
      ]
     },
     "execution_count": 11,
     "metadata": {},
     "output_type": "execute_result"
    }
   ],
   "source": [
    "trainImages[0].shape"
   ]
  },
  {
   "cell_type": "code",
   "execution_count": null,
   "id": "9dc919ae-aad1-4407-a7b5-d54f3d89b07f",
   "metadata": {},
   "outputs": [
    {
     "name": "stdout",
     "output_type": "stream",
     "text": [
      "[INFO] training bounding box regressor...\n",
      "Epoch 1/6\n"
     ]
    }
   ],
   "source": [
    "print(\"[INFO] training bounding box regressor...\")\n",
    "H = model.fit(\n",
    "\ttrainImages, trainTargets,\n",
    "\tvalidation_data=(testImages, testTargets),\n",
    "\tbatch_size=64,\n",
    "\tepochs=6,\n",
    "\tverbose=1\n",
    ")"
   ]
  },
  {
   "cell_type": "code",
   "execution_count": null,
   "id": "eaa056e4-65ae-42a6-8e04-77af36cef127",
   "metadata": {},
   "outputs": [],
   "source": [
    "# model.save('../scr/segm_model')"
   ]
  },
  {
   "cell_type": "code",
   "execution_count": null,
   "id": "a56954d0-c885-417b-af19-5140984b2801",
   "metadata": {},
   "outputs": [],
   "source": [
    "test_im_path = r'..\\data\\dataset\\dataset\\testing_data\\images\\83624198.png'\n",
    "test_im = load_img(test_im_path, target_size=(sithe, sithe))\n",
    "test_im = img_to_array(test_im) / 255.0\n",
    "test_im = np.expand_dims(test_im, axis=0)"
   ]
  },
  {
   "cell_type": "code",
   "execution_count": null,
   "id": "1e814772-46b6-4d97-b9d3-f14aff0a594e",
   "metadata": {},
   "outputs": [],
   "source": [
    "print(test_im.shape)\n",
    "preds = model.predict(test_im)\n",
    "preds"
   ]
  },
  {
   "cell_type": "code",
   "execution_count": null,
   "id": "44d41ce0-54c6-4d96-8f30-c3a3404bfccc",
   "metadata": {},
   "outputs": [],
   "source": [
    "im = np.array(PIL.Image.open(test_im_path).convert(\"1\"))\n",
    "H, W = im.shape\n",
    "fig,ax = plt.subplots(figsize=(12, 12))\n",
    "plt.imshow(im, cmap=\"binary\")\n",
    "for lb in preds:\n",
    "    print(lb)\n",
    "    startX, startY, endX, endY = lb\n",
    "    x = startX * W\n",
    "    y = startY * H\n",
    "    w = (endX - startX) * W\n",
    "    h = (endY - startY) * H\n",
    "    \n",
    "    print(x, y, w, h)\n",
    "    rect = patches.Rectangle((x, y), w, h, linewidth=1, lw = 2,\n",
    "                             fc ='b', facecolor='none',alpha = 0.3)\n",
    "    ax.add_patch(rect)\n",
    "    rect = patches.Rectangle((x, y), w, h, lw=2,\n",
    "                             ec ='b', facecolor='none')\n",
    "    ax.add_patch(rect)\n",
    "plt.show()\n",
    "print(np.unique(im))"
   ]
  },
  {
   "cell_type": "code",
   "execution_count": null,
   "id": "7451ea99-6ed0-465a-a6bb-22f6a078d1ba",
   "metadata": {},
   "outputs": [],
   "source": []
  }
 ],
 "metadata": {
  "kernelspec": {
   "display_name": "Python 3 (ipykernel)",
   "language": "python",
   "name": "python3"
  },
  "language_info": {
   "codemirror_mode": {
    "name": "ipython",
    "version": 3
   },
   "file_extension": ".py",
   "mimetype": "text/x-python",
   "name": "python",
   "nbconvert_exporter": "python",
   "pygments_lexer": "ipython3",
   "version": "3.9.6"
  }
 },
 "nbformat": 4,
 "nbformat_minor": 5
}
