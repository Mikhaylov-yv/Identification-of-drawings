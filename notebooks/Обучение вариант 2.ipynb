{
 "cells": [
  {
   "cell_type": "markdown",
   "id": "665b92fe-5407-4c92-bbb8-a9c62811cbf9",
   "metadata": {},
   "source": [
    "## За аналог взят\n",
    "\n",
    "[Распознавание рукописного ввода с использованием CRNN в Керасе](https://www.kaggle.com/samfc10/handwriting-recognition-using-crnn-in-keras)"
   ]
  },
  {
   "cell_type": "code",
   "execution_count": 1,
   "id": "d0abf28c-029c-4818-be82-273d33b2d54e",
   "metadata": {},
   "outputs": [],
   "source": [
    "import os\n",
    "import cv2\n",
    "import random\n",
    "import numpy as np\n",
    "import pandas as pd\n",
    "import matplotlib.pyplot as plt\n",
    "\n",
    "import tensorflow as tf\n",
    "from keras import backend as K\n",
    "from keras.models import Model\n",
    "from keras.layers import Input, Conv2D, MaxPooling2D, Reshape, Bidirectional, LSTM, Dense, Lambda, Activation, BatchNormalization, Dropout\n",
    "from tensorflow.keras.optimizers import Adam"
   ]
  },
  {
   "cell_type": "code",
   "execution_count": 2,
   "id": "f71c612a-0596-4f2c-af03-c2e917831bbd",
   "metadata": {},
   "outputs": [],
   "source": [
    "import sys\n",
    "sys.path.append('..')\n",
    "\n",
    "from scr import train\n",
    "data_path_train = '../data/dataset/dataset/training_data'\n",
    "data_path_test = '../data/dataset/dataset/testing_data'\n",
    "images_path_train = '../data/dataset/dataset/training_data/images'\n",
    "images_path_test = '../data/dataset/dataset/testing_data/images'"
   ]
  },
  {
   "cell_type": "code",
   "execution_count": 5,
   "id": "6b9eeef9-f318-49ab-a3ef-f72bfdb0a219",
   "metadata": {},
   "outputs": [],
   "source": [
    "def open_anatac(path):\n",
    "    df = train.Train().get_annotation(path, True)\n",
    "    df = df.drop_duplicates('fil_name')\n",
    "    df = df.sort_values('fil_name', ignore_index = True)\n",
    "    return df"
   ]
  },
  {
   "cell_type": "code",
   "execution_count": 19,
   "id": "139b7e4c-8a94-49bc-a615-7fbf1c23b5df",
   "metadata": {},
   "outputs": [
    {
     "name": "stdout",
     "output_type": "stream",
     "text": [
      "125\n"
     ]
    },
    {
     "name": "stderr",
     "output_type": "stream",
     "text": [
      "C:\\Users\\uriks\\PycharmProjects\\Identification-of-drawings\\notebooks\\..\\scr\\train.py:105: UserWarning: This pattern has match groups. To actually get the groups, use str.extract.\n",
      "  return (df.label == 'other')&(df.text.str.contains('(^\\d{5,10})|(\\d{5,10}$)'))\n"
     ]
    },
    {
     "data": {
      "text/html": [
       "<div>\n",
       "<style scoped>\n",
       "    .dataframe tbody tr th:only-of-type {\n",
       "        vertical-align: middle;\n",
       "    }\n",
       "\n",
       "    .dataframe tbody tr th {\n",
       "        vertical-align: top;\n",
       "    }\n",
       "\n",
       "    .dataframe thead th {\n",
       "        text-align: right;\n",
       "    }\n",
       "</style>\n",
       "<table border=\"1\" class=\"dataframe\">\n",
       "  <thead>\n",
       "    <tr style=\"text-align: right;\">\n",
       "      <th></th>\n",
       "      <th>box</th>\n",
       "      <th>text</th>\n",
       "      <th>label</th>\n",
       "      <th>words</th>\n",
       "      <th>linking</th>\n",
       "      <th>id</th>\n",
       "      <th>fil_name</th>\n",
       "    </tr>\n",
       "  </thead>\n",
       "  <tbody>\n",
       "    <tr>\n",
       "      <th>0</th>\n",
       "      <td>[525, 904, 641, 926]</td>\n",
       "      <td>597005708</td>\n",
       "      <td>other</td>\n",
       "      <td>[{'box': [525, 904, 641, 926], 'text': '597005...</td>\n",
       "      <td>[]</td>\n",
       "      <td>8</td>\n",
       "      <td>0000971160</td>\n",
       "    </tr>\n",
       "    <tr>\n",
       "      <th>1</th>\n",
       "      <td>[533, 829, 653, 853]</td>\n",
       "      <td>620419245</td>\n",
       "      <td>other</td>\n",
       "      <td>[{'box': [533, 829, 653, 853], 'text': '620419...</td>\n",
       "      <td>[]</td>\n",
       "      <td>29</td>\n",
       "      <td>0000989556</td>\n",
       "    </tr>\n",
       "    <tr>\n",
       "      <th>2</th>\n",
       "      <td>[501, 839, 623, 871]</td>\n",
       "      <td>620429480</td>\n",
       "      <td>other</td>\n",
       "      <td>[{'box': [501, 839, 623, 871], 'text': '620429...</td>\n",
       "      <td>[]</td>\n",
       "      <td>10</td>\n",
       "      <td>0000990274</td>\n",
       "    </tr>\n",
       "    <tr>\n",
       "      <th>3</th>\n",
       "      <td>[550, 883, 675, 904]</td>\n",
       "      <td>620915734</td>\n",
       "      <td>other</td>\n",
       "      <td>[{'box': [550, 883, 675, 904], 'text': '620915...</td>\n",
       "      <td>[]</td>\n",
       "      <td>119</td>\n",
       "      <td>0000999294</td>\n",
       "    </tr>\n",
       "    <tr>\n",
       "      <th>4</th>\n",
       "      <td>[697, 796, 721, 927]</td>\n",
       "      <td>621800455</td>\n",
       "      <td>other</td>\n",
       "      <td>[{'box': [697, 796, 721, 927], 'text': '621800...</td>\n",
       "      <td>[]</td>\n",
       "      <td>3</td>\n",
       "      <td>0001118259</td>\n",
       "    </tr>\n",
       "  </tbody>\n",
       "</table>\n",
       "</div>"
      ],
      "text/plain": [
       "                    box       text  label  \\\n",
       "0  [525, 904, 641, 926]  597005708  other   \n",
       "1  [533, 829, 653, 853]  620419245  other   \n",
       "2  [501, 839, 623, 871]  620429480  other   \n",
       "3  [550, 883, 675, 904]  620915734  other   \n",
       "4  [697, 796, 721, 927]  621800455  other   \n",
       "\n",
       "                                               words linking   id    fil_name  \n",
       "0  [{'box': [525, 904, 641, 926], 'text': '597005...      []    8  0000971160  \n",
       "1  [{'box': [533, 829, 653, 853], 'text': '620419...      []   29  0000989556  \n",
       "2  [{'box': [501, 839, 623, 871], 'text': '620429...      []   10  0000990274  \n",
       "3  [{'box': [550, 883, 675, 904], 'text': '620915...      []  119  0000999294  \n",
       "4  [{'box': [697, 796, 721, 927], 'text': '621800...      []    3  0001118259  "
      ]
     },
     "execution_count": 19,
     "metadata": {},
     "output_type": "execute_result"
    }
   ],
   "source": [
    "train_df = open_anatac(data_path_train)\n",
    "train_size = train_df.shape[0]\n",
    "print(train_size)\n",
    "train_df.head()"
   ]
  },
  {
   "cell_type": "code",
   "execution_count": 20,
   "id": "f3fb664b-ac5d-4312-9836-2f22590dc74d",
   "metadata": {},
   "outputs": [
    {
     "name": "stdout",
     "output_type": "stream",
     "text": [
      "49\n"
     ]
    },
    {
     "name": "stderr",
     "output_type": "stream",
     "text": [
      "C:\\Users\\uriks\\PycharmProjects\\Identification-of-drawings\\notebooks\\..\\scr\\train.py:105: UserWarning: This pattern has match groups. To actually get the groups, use str.extract.\n",
      "  return (df.label == 'other')&(df.text.str.contains('(^\\d{5,10})|(\\d{5,10}$)'))\n"
     ]
    },
    {
     "data": {
      "text/html": [
       "<div>\n",
       "<style scoped>\n",
       "    .dataframe tbody tr th:only-of-type {\n",
       "        vertical-align: middle;\n",
       "    }\n",
       "\n",
       "    .dataframe tbody tr th {\n",
       "        vertical-align: top;\n",
       "    }\n",
       "\n",
       "    .dataframe thead th {\n",
       "        text-align: right;\n",
       "    }\n",
       "</style>\n",
       "<table border=\"1\" class=\"dataframe\">\n",
       "  <thead>\n",
       "    <tr style=\"text-align: right;\">\n",
       "      <th></th>\n",
       "      <th>box</th>\n",
       "      <th>text</th>\n",
       "      <th>label</th>\n",
       "      <th>words</th>\n",
       "      <th>linking</th>\n",
       "      <th>id</th>\n",
       "      <th>fil_name</th>\n",
       "    </tr>\n",
       "  </thead>\n",
       "  <tbody>\n",
       "    <tr>\n",
       "      <th>0</th>\n",
       "      <td>[633, 775, 653, 874]</td>\n",
       "      <td>82092117</td>\n",
       "      <td>other</td>\n",
       "      <td>[{'box': [633, 775, 653, 874], 'text': '820921...</td>\n",
       "      <td>[]</td>\n",
       "      <td>6</td>\n",
       "      <td>82092117</td>\n",
       "    </tr>\n",
       "    <tr>\n",
       "      <th>1</th>\n",
       "      <td>[675, 774, 696, 879]</td>\n",
       "      <td>82200067</td>\n",
       "      <td>other</td>\n",
       "      <td>[{'box': [675, 774, 696, 879], 'text': '822000...</td>\n",
       "      <td>[]</td>\n",
       "      <td>22</td>\n",
       "      <td>82200067_0069</td>\n",
       "    </tr>\n",
       "    <tr>\n",
       "      <th>2</th>\n",
       "      <td>[680, 814, 698, 917]</td>\n",
       "      <td>82250337</td>\n",
       "      <td>other</td>\n",
       "      <td>[{'box': [680, 814, 698, 917], 'text': '822503...</td>\n",
       "      <td>[]</td>\n",
       "      <td>11</td>\n",
       "      <td>82250337_0338</td>\n",
       "    </tr>\n",
       "    <tr>\n",
       "      <th>3</th>\n",
       "      <td>[680, 832, 702, 941]</td>\n",
       "      <td>82251504</td>\n",
       "      <td>other</td>\n",
       "      <td>[{'box': [680, 832, 702, 941], 'text': '822515...</td>\n",
       "      <td>[]</td>\n",
       "      <td>10</td>\n",
       "      <td>82251504</td>\n",
       "    </tr>\n",
       "    <tr>\n",
       "      <th>4</th>\n",
       "      <td>[695, 787, 719, 895]</td>\n",
       "      <td>82252956</td>\n",
       "      <td>other</td>\n",
       "      <td>[{'box': [695, 787, 719, 895], 'text': '822529...</td>\n",
       "      <td>[]</td>\n",
       "      <td>12</td>\n",
       "      <td>82252956_2958</td>\n",
       "    </tr>\n",
       "  </tbody>\n",
       "</table>\n",
       "</div>"
      ],
      "text/plain": [
       "                    box      text  label  \\\n",
       "0  [633, 775, 653, 874]  82092117  other   \n",
       "1  [675, 774, 696, 879]  82200067  other   \n",
       "2  [680, 814, 698, 917]  82250337  other   \n",
       "3  [680, 832, 702, 941]  82251504  other   \n",
       "4  [695, 787, 719, 895]  82252956  other   \n",
       "\n",
       "                                               words linking  id  \\\n",
       "0  [{'box': [633, 775, 653, 874], 'text': '820921...      []   6   \n",
       "1  [{'box': [675, 774, 696, 879], 'text': '822000...      []  22   \n",
       "2  [{'box': [680, 814, 698, 917], 'text': '822503...      []  11   \n",
       "3  [{'box': [680, 832, 702, 941], 'text': '822515...      []  10   \n",
       "4  [{'box': [695, 787, 719, 895], 'text': '822529...      []  12   \n",
       "\n",
       "        fil_name  \n",
       "0       82092117  \n",
       "1  82200067_0069  \n",
       "2  82250337_0338  \n",
       "3       82251504  \n",
       "4  82252956_2958  "
      ]
     },
     "execution_count": 20,
     "metadata": {},
     "output_type": "execute_result"
    }
   ],
   "source": [
    "test_df = open_anatac(data_path_test)\n",
    "test_size = test_df.shape[0]\n",
    "print(test_size)\n",
    "test_df.head()"
   ]
  },
  {
   "cell_type": "markdown",
   "id": "b7db391f-0183-46c8-b524-6d25b8ba919c",
   "metadata": {},
   "source": [
    "## Уникальные символы которые мы хотим распознать"
   ]
  },
  {
   "cell_type": "code",
   "execution_count": 10,
   "id": "f368e070-28e3-4cfb-b3c4-ce43d8c81919",
   "metadata": {},
   "outputs": [
    {
     "name": "stdout",
     "output_type": "stream",
     "text": [
      "[' ', '&', ',', '.', '0', '1', '2', '3', '4', '5', '6', '7', '8', '9', 'A', 'B', 'C', 'D', 'E', 'F', 'G', 'I', 'J', 'K', 'M', 'N', 'O', 'P', 'R', 'S', 'T', 'U', 'W', 'X', 'Y']\n"
     ]
    },
    {
     "data": {
      "text/plain": [
       "' &,.0123456789ABCDEFGIJKMNOPRSTUWXY'"
      ]
     },
     "execution_count": 10,
     "metadata": {},
     "output_type": "execute_result"
    }
   ],
   "source": [
    "sym_list = []\n",
    "\n",
    "for text in  train_df.text:\n",
    "    for word in text:\n",
    "        word = word.upper()\n",
    "        if word not in sym_list: \n",
    "            sym_list.append(word)\n",
    "sym_list.sort()\n",
    "alphabets = ''.join(sym_list)\n",
    "print(sym_list)\n",
    "alphabets"
   ]
  },
  {
   "cell_type": "markdown",
   "id": "74b758a2-a023-414a-8971-ea43114caba6",
   "metadata": {},
   "source": [
    "## Максимальная длинна строки"
   ]
  },
  {
   "cell_type": "code",
   "execution_count": 29,
   "id": "95560c27-47ba-45ab-9eae-05dfe4ab2b3c",
   "metadata": {},
   "outputs": [
    {
     "data": {
      "text/plain": [
       "38"
      ]
     },
     "execution_count": 29,
     "metadata": {},
     "output_type": "execute_result"
    }
   ],
   "source": [
    "max_str_len = train_df.text.str.len().max()\n",
    "max_str_len"
   ]
  },
  {
   "cell_type": "markdown",
   "id": "f4926315-9d85-44bf-90c3-938e09a86fb3",
   "metadata": {},
   "source": [
    "## Предварительная обработка и подготовка изображений к обучению\n",
    "\n",
    "* Изображения загружаются в оттенках серого и меняют форму на ширину 256 и высоту 64.\n",
    "* Ширина и высота обрезаются, если они больше 256 и 64 соответственно.  \n",
    "* Если они меньше, то изображение дополняется белыми пикселями.  \n",
    "* Наконец, изображение поворачивается по часовой стрелке, чтобы привести форму изображения к (x, y).\n",
    "* Затем изображение нормализуется до диапазона [0, 1]."
   ]
  },
  {
   "cell_type": "code",
   "execution_count": 62,
   "id": "3a8cbb44-dfe7-4dea-9894-8e2eafd41776",
   "metadata": {},
   "outputs": [],
   "source": [
    "def preprocess(img):\n",
    "#     h_max, w_max = 1000, 754\n",
    "    h_max, w_max = 256, 64\n",
    "    \n",
    "    (h, w) = img.shape\n",
    "    \n",
    "    final_img = np.ones([h_max, w_max])*255 # blank white image\n",
    "    \n",
    "    # crop\n",
    "    if w > w_max:\n",
    "        img = img[:, :w_max]\n",
    "        \n",
    "    if h > h_max:\n",
    "        img = img[:h_max, :]\n",
    "    \n",
    "    \n",
    "    final_img[:h, :w] = img\n",
    "    return cv2.rotate(final_img, cv2.ROTATE_90_CLOCKWISE)"
   ]
  },
  {
   "cell_type": "code",
   "execution_count": 63,
   "id": "58a9db02-3efb-4939-9af8-7c27c66c919c",
   "metadata": {},
   "outputs": [],
   "source": [
    "def lod_imag(df, images_path):\n",
    "    data = []\n",
    "    targets = []\n",
    "    filenames = []\n",
    "\n",
    "    for name in df.fil_name.unique():\n",
    "        filename = name + '.png'\n",
    "        image_path = f'{images_path}/{filename}'\n",
    "        image = cv2.imread(image_path, cv2.IMREAD_GRAYSCALE)\n",
    "        image = preprocess(image)\n",
    "        image = image/255\n",
    "\n",
    "        data.append(image)\n",
    "        targets.append(train_df.loc[train_df.fil_name == name, 'text'].max())\n",
    "        filenames = [filename]\n",
    "    return data, targets, filenames"
   ]
  },
  {
   "cell_type": "code",
   "execution_count": 64,
   "id": "2ff28cde-0736-4947-bbaa-56989c836ba5",
   "metadata": {},
   "outputs": [],
   "source": [
    "train_x, train_targets, train_filenames = lod_imag(train_df, images_path_train)\n",
    "test_x, test_targets, test_filenames = lod_imag(test_df, images_path_test)"
   ]
  },
  {
   "cell_type": "code",
   "execution_count": 65,
   "id": "d632b83a-c5c4-42af-ad90-97f74adbd4d2",
   "metadata": {},
   "outputs": [],
   "source": [
    "train_x = np.array(train_x).reshape(-1, 256, 64, 1)\n",
    "test_x = np.array(test_x).reshape(-1, 256, 64, 1)"
   ]
  },
  {
   "cell_type": "markdown",
   "id": "2bb7485f-4062-4ac5-be07-5b14215b6045",
   "metadata": {},
   "source": [
    "## Подготовка этикеток для CTC Loss¶\n",
    "\n",
    " Узнайте больше о потере CTC и о том, почему это потрясающе для распознавания текста [здесь](https://theailearner.com/2019/05/29/connectionist-temporal-classificationctc/).\n",
    "\n",
    " Метки должны быть преобразованы в числа, которые представляют каждый символ в обучающем наборе.  «Алфавиты» состоят из AZ и трех специальных символов (- и пробела)."
   ]
  },
  {
   "cell_type": "code",
   "execution_count": 66,
   "id": "01b6357a-a2d8-4cbd-b684-c86e5ec11070",
   "metadata": {},
   "outputs": [],
   "source": [
    "alphabets = alphabets #Уникальные символы которые мы хотим распознать\n",
    "max_str_len = max_str_len # Максимальная длинна строки\n",
    "num_of_characters = len(alphabets) + 1 # +1 для псевдо-пустого ctc\n",
    "num_of_timestamps = 64 # максимальная длина прогнозируемых меток\n",
    "\n",
    "def label_to_num(label):\n",
    "    label_num = []\n",
    "    for ch in label:\n",
    "        label_num.append(alphabets.find(ch))\n",
    "        \n",
    "    return np.array(label_num)\n",
    "\n",
    "def num_to_label(num):\n",
    "    ret = \"\"\n",
    "    for ch in num:\n",
    "        if ch == -1:  # CTC Blank\n",
    "            break\n",
    "        else:\n",
    "            ret+=alphabets[ch]\n",
    "    return ret"
   ]
  },
  {
   "cell_type": "code",
   "execution_count": 67,
   "id": "1c7add93-d811-40dd-9a3b-f33cb8cf4ee5",
   "metadata": {},
   "outputs": [
    {
     "name": "stdout",
     "output_type": "stream",
     "text": [
      "93329540 \n",
      " [13  7  7  6 13  9  8  4]\n"
     ]
    }
   ],
   "source": [
    "text = '93329540'\n",
    "print(text, '\\n',label_to_num(text))"
   ]
  },
  {
   "cell_type": "markdown",
   "id": "dde2e47a-8f57-4c5e-9643-43438e036a6a",
   "metadata": {},
   "source": [
    "* train_y содержит истинные метки, преобразованные в числа и дополненные -1.  Длина каждой метки равна max_str_len.\n",
    "* train_label_len содержит длину каждой истинной метки (без заполнения)\n",
    "* train_input_len содержит длину каждой прогнозируемой метки.  Длина всех прогнозируемых меток постоянна, т.е. количество временных меток - 2.\n",
    "* train_output фиктивный вывод для потери ctc."
   ]
  },
  {
   "cell_type": "code",
   "execution_count": 68,
   "id": "f9e902a2-df6e-4d07-b989-0b35c520f374",
   "metadata": {},
   "outputs": [],
   "source": [
    "def get_labls(df, size, max_str_len):\n",
    "    y = np.ones([size, max_str_len]) * -1\n",
    "    label_len = np.zeros([size, 1])\n",
    "    input_len = np.ones([size, 1]) * (num_of_timestamps-2)\n",
    "    output = np.zeros([size])\n",
    "\n",
    "    for i in range(size):\n",
    "        label_len[i] = len(df.loc[i, 'text'])\n",
    "        y[i, 0:len(df.loc[i, 'text'])] = label_to_num(df.loc[i, 'text'])\n",
    "    return y, label_len, input_len, output"
   ]
  },
  {
   "cell_type": "code",
   "execution_count": 69,
   "id": "ee0aa4da-ca16-42de-80c7-9fe098b58f91",
   "metadata": {},
   "outputs": [],
   "source": [
    "train_y, train_label_len, train_input_len, train_output = get_labls(train_df, train_size, max_str_len = max_str_len)\n",
    "test_y, test_label_len, test_input_len, test_output = get_labls(test_df, test_size, max_str_len = max_str_len)"
   ]
  },
  {
   "cell_type": "code",
   "execution_count": 70,
   "id": "e6a1af6f-5a2d-482a-8a08-1c8d5b613433",
   "metadata": {},
   "outputs": [
    {
     "name": "stdout",
     "output_type": "stream",
     "text": [
      "Model: \"model_3\"\n",
      "_________________________________________________________________\n",
      "Layer (type)                 Output Shape              Param #   \n",
      "=================================================================\n",
      "input (InputLayer)           [(None, 256, 64, 1)]      0         \n",
      "_________________________________________________________________\n",
      "conv1 (Conv2D)               (None, 256, 64, 32)       320       \n",
      "_________________________________________________________________\n",
      "batch_normalization_12 (Batc (None, 256, 64, 32)       128       \n",
      "_________________________________________________________________\n",
      "activation_12 (Activation)   (None, 256, 64, 32)       0         \n",
      "_________________________________________________________________\n",
      "max1 (MaxPooling2D)          (None, 128, 32, 32)       0         \n",
      "_________________________________________________________________\n",
      "conv2 (Conv2D)               (None, 128, 32, 64)       18496     \n",
      "_________________________________________________________________\n",
      "batch_normalization_13 (Batc (None, 128, 32, 64)       256       \n",
      "_________________________________________________________________\n",
      "activation_13 (Activation)   (None, 128, 32, 64)       0         \n",
      "_________________________________________________________________\n",
      "max2 (MaxPooling2D)          (None, 64, 16, 64)        0         \n",
      "_________________________________________________________________\n",
      "dropout_8 (Dropout)          (None, 64, 16, 64)        0         \n",
      "_________________________________________________________________\n",
      "conv3 (Conv2D)               (None, 64, 16, 128)       73856     \n",
      "_________________________________________________________________\n",
      "batch_normalization_14 (Batc (None, 64, 16, 128)       512       \n",
      "_________________________________________________________________\n",
      "activation_14 (Activation)   (None, 64, 16, 128)       0         \n",
      "_________________________________________________________________\n",
      "max3 (MaxPooling2D)          (None, 64, 8, 128)        0         \n",
      "_________________________________________________________________\n",
      "dropout_9 (Dropout)          (None, 64, 8, 128)        0         \n",
      "_________________________________________________________________\n",
      "reshape (Reshape)            (None, 64, 1024)          0         \n",
      "_________________________________________________________________\n",
      "dense1 (Dense)               (None, 64, 64)            65600     \n",
      "_________________________________________________________________\n",
      "lstm1 (Bidirectional)        (None, 64, 512)           657408    \n",
      "_________________________________________________________________\n",
      "lstm2 (Bidirectional)        (None, 64, 512)           1574912   \n",
      "_________________________________________________________________\n",
      "dense2 (Dense)               (None, 64, 36)            18468     \n",
      "_________________________________________________________________\n",
      "softmax (Activation)         (None, 64, 36)            0         \n",
      "=================================================================\n",
      "Total params: 2,409,956\n",
      "Trainable params: 2,409,508\n",
      "Non-trainable params: 448\n",
      "_________________________________________________________________\n"
     ]
    }
   ],
   "source": [
    "input_data = Input(shape=(256, 64, 1), name='input')\n",
    "\n",
    "inner = Conv2D(32, (3, 3), padding='same', name='conv1', kernel_initializer='he_normal')(input_data)  \n",
    "inner = BatchNormalization()(inner)\n",
    "inner = Activation('relu')(inner)\n",
    "inner = MaxPooling2D(pool_size=(2, 2), name='max1')(inner)\n",
    "\n",
    "inner = Conv2D(64, (3, 3), padding='same', name='conv2', kernel_initializer='he_normal')(inner)\n",
    "inner = BatchNormalization()(inner)\n",
    "inner = Activation('relu')(inner)\n",
    "inner = MaxPooling2D(pool_size=(2, 2), name='max2')(inner)\n",
    "inner = Dropout(0.3)(inner)\n",
    "\n",
    "inner = Conv2D(128, (3, 3), padding='same', name='conv3', kernel_initializer='he_normal')(inner)\n",
    "inner = BatchNormalization()(inner)\n",
    "inner = Activation('relu')(inner)\n",
    "inner = MaxPooling2D(pool_size=(1, 2), name='max3')(inner)\n",
    "inner = Dropout(0.3)(inner)\n",
    "\n",
    "# CNN to RNN\n",
    "inner = Reshape(target_shape=((64, 1024)), name='reshape')(inner)\n",
    "inner = Dense(64, activation='relu', kernel_initializer='he_normal', name='dense1')(inner)\n",
    "\n",
    "## RNN\n",
    "inner = Bidirectional(LSTM(256, return_sequences=True), name = 'lstm1')(inner)\n",
    "inner = Bidirectional(LSTM(256, return_sequences=True), name = 'lstm2')(inner)\n",
    "\n",
    "## OUTPUT\n",
    "inner = Dense(num_of_characters, kernel_initializer='he_normal',name='dense2')(inner)\n",
    "y_pred = Activation('softmax', name='softmax')(inner)\n",
    "\n",
    "model = Model(inputs=input_data, outputs=y_pred)\n",
    "model.summary()"
   ]
  },
  {
   "cell_type": "code",
   "execution_count": 71,
   "id": "9eef9620-28d7-4d83-a615-f328b061c614",
   "metadata": {},
   "outputs": [],
   "source": [
    "# the ctc loss function\n",
    "def ctc_lambda_func(args):\n",
    "    y_pred, labels, input_length, label_length = args\n",
    "    # the 2 is critical here since the first couple outputs of the RNN\n",
    "    # tend to be garbage\n",
    "    y_pred = y_pred[:, 2:, :]\n",
    "    return K.ctc_batch_cost(labels, y_pred, input_length, label_length)"
   ]
  },
  {
   "cell_type": "code",
   "execution_count": 72,
   "id": "3b1dd6e0-3982-4f2c-83bf-abc3f87d2d13",
   "metadata": {},
   "outputs": [],
   "source": [
    "labels = Input(name='gtruth_labels', shape=[max_str_len], dtype='float32')\n",
    "input_length = Input(name='input_length', shape=[1], dtype='int64')\n",
    "label_length = Input(name='label_length', shape=[1], dtype='int64')\n",
    "\n",
    "ctc_loss = Lambda(ctc_lambda_func, output_shape=(1,), name='ctc')([y_pred, labels, input_length, label_length])\n",
    "model_final = Model(inputs=[input_data, labels, input_length, label_length], outputs=ctc_loss)"
   ]
  },
  {
   "cell_type": "code",
   "execution_count": 73,
   "id": "fd6585c5-6ff8-46d4-bcd1-0439244b8955",
   "metadata": {},
   "outputs": [
    {
     "name": "stdout",
     "output_type": "stream",
     "text": [
      "Epoch 1/5\n"
     ]
    },
    {
     "ename": "InvalidArgumentError",
     "evalue": " All labels must be nonnegative integers, batch: 69 labels: 25,-1,-1,0,34,-1,-1,-1,2,0,25,-1,-1,0,34,-1,-1,-1,0,5,4,4,5,11\n\t [[node model_4/ctc/CTCLoss (defined at C:\\Users\\uriks\\AppData\\Local\\Temp/ipykernel_2660/496030596.py:7) ]] [Op:__inference_train_function_17276]\n\nFunction call stack:\ntrain_function\n",
     "output_type": "error",
     "traceback": [
      "\u001b[1;31m---------------------------------------------------------------------------\u001b[0m",
      "\u001b[1;31mInvalidArgumentError\u001b[0m                      Traceback (most recent call last)",
      "\u001b[1;32m~\\AppData\\Local\\Temp/ipykernel_2660/2968868782.py\u001b[0m in \u001b[0;36m<module>\u001b[1;34m\u001b[0m\n\u001b[0;32m      2\u001b[0m \u001b[0mmodel_final\u001b[0m\u001b[1;33m.\u001b[0m\u001b[0mcompile\u001b[0m\u001b[1;33m(\u001b[0m\u001b[0mloss\u001b[0m\u001b[1;33m=\u001b[0m\u001b[1;33m{\u001b[0m\u001b[1;34m'ctc'\u001b[0m\u001b[1;33m:\u001b[0m \u001b[1;32mlambda\u001b[0m \u001b[0my_true\u001b[0m\u001b[1;33m,\u001b[0m \u001b[0my_pred\u001b[0m\u001b[1;33m:\u001b[0m \u001b[0my_pred\u001b[0m\u001b[1;33m}\u001b[0m\u001b[1;33m,\u001b[0m \u001b[0moptimizer\u001b[0m\u001b[1;33m=\u001b[0m\u001b[0mAdam\u001b[0m\u001b[1;33m(\u001b[0m\u001b[0mlr\u001b[0m \u001b[1;33m=\u001b[0m \u001b[1;36m0.0001\u001b[0m\u001b[1;33m)\u001b[0m\u001b[1;33m)\u001b[0m\u001b[1;33m\u001b[0m\u001b[1;33m\u001b[0m\u001b[0m\n\u001b[0;32m      3\u001b[0m \u001b[1;33m\u001b[0m\u001b[0m\n\u001b[1;32m----> 4\u001b[1;33m model_final.fit(x=[train_x, train_y, train_input_len, train_label_len], y=train_output, \n\u001b[0m\u001b[0;32m      5\u001b[0m                 \u001b[0mvalidation_data\u001b[0m\u001b[1;33m=\u001b[0m\u001b[1;33m(\u001b[0m\u001b[1;33m[\u001b[0m\u001b[0mtest_x\u001b[0m\u001b[1;33m,\u001b[0m \u001b[0mtest_y\u001b[0m\u001b[1;33m,\u001b[0m \u001b[0mtest_input_len\u001b[0m\u001b[1;33m,\u001b[0m \u001b[0mtest_label_len\u001b[0m\u001b[1;33m]\u001b[0m\u001b[1;33m,\u001b[0m \u001b[0mtest_output\u001b[0m\u001b[1;33m)\u001b[0m\u001b[1;33m,\u001b[0m\u001b[1;33m\u001b[0m\u001b[1;33m\u001b[0m\u001b[0m\n\u001b[0;32m      6\u001b[0m                 epochs=5, batch_size=128)\n",
      "\u001b[1;32mc:\\users\\uriks\\pycharmprojects\\identification-of-drawings\\venv\\lib\\site-packages\\keras\\engine\\training.py\u001b[0m in \u001b[0;36mfit\u001b[1;34m(self, x, y, batch_size, epochs, verbose, callbacks, validation_split, validation_data, shuffle, class_weight, sample_weight, initial_epoch, steps_per_epoch, validation_steps, validation_batch_size, validation_freq, max_queue_size, workers, use_multiprocessing)\u001b[0m\n\u001b[0;32m   1182\u001b[0m                 _r=1):\n\u001b[0;32m   1183\u001b[0m               \u001b[0mcallbacks\u001b[0m\u001b[1;33m.\u001b[0m\u001b[0mon_train_batch_begin\u001b[0m\u001b[1;33m(\u001b[0m\u001b[0mstep\u001b[0m\u001b[1;33m)\u001b[0m\u001b[1;33m\u001b[0m\u001b[1;33m\u001b[0m\u001b[0m\n\u001b[1;32m-> 1184\u001b[1;33m               \u001b[0mtmp_logs\u001b[0m \u001b[1;33m=\u001b[0m \u001b[0mself\u001b[0m\u001b[1;33m.\u001b[0m\u001b[0mtrain_function\u001b[0m\u001b[1;33m(\u001b[0m\u001b[0miterator\u001b[0m\u001b[1;33m)\u001b[0m\u001b[1;33m\u001b[0m\u001b[1;33m\u001b[0m\u001b[0m\n\u001b[0m\u001b[0;32m   1185\u001b[0m               \u001b[1;32mif\u001b[0m \u001b[0mdata_handler\u001b[0m\u001b[1;33m.\u001b[0m\u001b[0mshould_sync\u001b[0m\u001b[1;33m:\u001b[0m\u001b[1;33m\u001b[0m\u001b[1;33m\u001b[0m\u001b[0m\n\u001b[0;32m   1186\u001b[0m                 \u001b[0mcontext\u001b[0m\u001b[1;33m.\u001b[0m\u001b[0masync_wait\u001b[0m\u001b[1;33m(\u001b[0m\u001b[1;33m)\u001b[0m\u001b[1;33m\u001b[0m\u001b[1;33m\u001b[0m\u001b[0m\n",
      "\u001b[1;32mc:\\users\\uriks\\pycharmprojects\\identification-of-drawings\\venv\\lib\\site-packages\\tensorflow\\python\\eager\\def_function.py\u001b[0m in \u001b[0;36m__call__\u001b[1;34m(self, *args, **kwds)\u001b[0m\n\u001b[0;32m    883\u001b[0m \u001b[1;33m\u001b[0m\u001b[0m\n\u001b[0;32m    884\u001b[0m       \u001b[1;32mwith\u001b[0m \u001b[0mOptionalXlaContext\u001b[0m\u001b[1;33m(\u001b[0m\u001b[0mself\u001b[0m\u001b[1;33m.\u001b[0m\u001b[0m_jit_compile\u001b[0m\u001b[1;33m)\u001b[0m\u001b[1;33m:\u001b[0m\u001b[1;33m\u001b[0m\u001b[1;33m\u001b[0m\u001b[0m\n\u001b[1;32m--> 885\u001b[1;33m         \u001b[0mresult\u001b[0m \u001b[1;33m=\u001b[0m \u001b[0mself\u001b[0m\u001b[1;33m.\u001b[0m\u001b[0m_call\u001b[0m\u001b[1;33m(\u001b[0m\u001b[1;33m*\u001b[0m\u001b[0margs\u001b[0m\u001b[1;33m,\u001b[0m \u001b[1;33m**\u001b[0m\u001b[0mkwds\u001b[0m\u001b[1;33m)\u001b[0m\u001b[1;33m\u001b[0m\u001b[1;33m\u001b[0m\u001b[0m\n\u001b[0m\u001b[0;32m    886\u001b[0m \u001b[1;33m\u001b[0m\u001b[0m\n\u001b[0;32m    887\u001b[0m       \u001b[0mnew_tracing_count\u001b[0m \u001b[1;33m=\u001b[0m \u001b[0mself\u001b[0m\u001b[1;33m.\u001b[0m\u001b[0mexperimental_get_tracing_count\u001b[0m\u001b[1;33m(\u001b[0m\u001b[1;33m)\u001b[0m\u001b[1;33m\u001b[0m\u001b[1;33m\u001b[0m\u001b[0m\n",
      "\u001b[1;32mc:\\users\\uriks\\pycharmprojects\\identification-of-drawings\\venv\\lib\\site-packages\\tensorflow\\python\\eager\\def_function.py\u001b[0m in \u001b[0;36m_call\u001b[1;34m(self, *args, **kwds)\u001b[0m\n\u001b[0;32m    948\u001b[0m         \u001b[1;31m# Lifting succeeded, so variables are initialized and we can run the\u001b[0m\u001b[1;33m\u001b[0m\u001b[1;33m\u001b[0m\u001b[1;33m\u001b[0m\u001b[0m\n\u001b[0;32m    949\u001b[0m         \u001b[1;31m# stateless function.\u001b[0m\u001b[1;33m\u001b[0m\u001b[1;33m\u001b[0m\u001b[1;33m\u001b[0m\u001b[0m\n\u001b[1;32m--> 950\u001b[1;33m         \u001b[1;32mreturn\u001b[0m \u001b[0mself\u001b[0m\u001b[1;33m.\u001b[0m\u001b[0m_stateless_fn\u001b[0m\u001b[1;33m(\u001b[0m\u001b[1;33m*\u001b[0m\u001b[0margs\u001b[0m\u001b[1;33m,\u001b[0m \u001b[1;33m**\u001b[0m\u001b[0mkwds\u001b[0m\u001b[1;33m)\u001b[0m\u001b[1;33m\u001b[0m\u001b[1;33m\u001b[0m\u001b[0m\n\u001b[0m\u001b[0;32m    951\u001b[0m     \u001b[1;32melse\u001b[0m\u001b[1;33m:\u001b[0m\u001b[1;33m\u001b[0m\u001b[1;33m\u001b[0m\u001b[0m\n\u001b[0;32m    952\u001b[0m       \u001b[0m_\u001b[0m\u001b[1;33m,\u001b[0m \u001b[0m_\u001b[0m\u001b[1;33m,\u001b[0m \u001b[0m_\u001b[0m\u001b[1;33m,\u001b[0m \u001b[0mfiltered_flat_args\u001b[0m \u001b[1;33m=\u001b[0m\u001b[0;31m \u001b[0m\u001b[0;31m\\\u001b[0m\u001b[1;33m\u001b[0m\u001b[1;33m\u001b[0m\u001b[0m\n",
      "\u001b[1;32mc:\\users\\uriks\\pycharmprojects\\identification-of-drawings\\venv\\lib\\site-packages\\tensorflow\\python\\eager\\function.py\u001b[0m in \u001b[0;36m__call__\u001b[1;34m(self, *args, **kwargs)\u001b[0m\n\u001b[0;32m   3037\u001b[0m       (graph_function,\n\u001b[0;32m   3038\u001b[0m        filtered_flat_args) = self._maybe_define_function(args, kwargs)\n\u001b[1;32m-> 3039\u001b[1;33m     return graph_function._call_flat(\n\u001b[0m\u001b[0;32m   3040\u001b[0m         filtered_flat_args, captured_inputs=graph_function.captured_inputs)  # pylint: disable=protected-access\n\u001b[0;32m   3041\u001b[0m \u001b[1;33m\u001b[0m\u001b[0m\n",
      "\u001b[1;32mc:\\users\\uriks\\pycharmprojects\\identification-of-drawings\\venv\\lib\\site-packages\\tensorflow\\python\\eager\\function.py\u001b[0m in \u001b[0;36m_call_flat\u001b[1;34m(self, args, captured_inputs, cancellation_manager)\u001b[0m\n\u001b[0;32m   1961\u001b[0m         and executing_eagerly):\n\u001b[0;32m   1962\u001b[0m       \u001b[1;31m# No tape is watching; skip to running the function.\u001b[0m\u001b[1;33m\u001b[0m\u001b[1;33m\u001b[0m\u001b[1;33m\u001b[0m\u001b[0m\n\u001b[1;32m-> 1963\u001b[1;33m       return self._build_call_outputs(self._inference_function.call(\n\u001b[0m\u001b[0;32m   1964\u001b[0m           ctx, args, cancellation_manager=cancellation_manager))\n\u001b[0;32m   1965\u001b[0m     forward_backward = self._select_forward_and_backward_functions(\n",
      "\u001b[1;32mc:\\users\\uriks\\pycharmprojects\\identification-of-drawings\\venv\\lib\\site-packages\\tensorflow\\python\\eager\\function.py\u001b[0m in \u001b[0;36mcall\u001b[1;34m(self, ctx, args, cancellation_manager)\u001b[0m\n\u001b[0;32m    589\u001b[0m       \u001b[1;32mwith\u001b[0m \u001b[0m_InterpolateFunctionError\u001b[0m\u001b[1;33m(\u001b[0m\u001b[0mself\u001b[0m\u001b[1;33m)\u001b[0m\u001b[1;33m:\u001b[0m\u001b[1;33m\u001b[0m\u001b[1;33m\u001b[0m\u001b[0m\n\u001b[0;32m    590\u001b[0m         \u001b[1;32mif\u001b[0m \u001b[0mcancellation_manager\u001b[0m \u001b[1;32mis\u001b[0m \u001b[1;32mNone\u001b[0m\u001b[1;33m:\u001b[0m\u001b[1;33m\u001b[0m\u001b[1;33m\u001b[0m\u001b[0m\n\u001b[1;32m--> 591\u001b[1;33m           outputs = execute.execute(\n\u001b[0m\u001b[0;32m    592\u001b[0m               \u001b[0mstr\u001b[0m\u001b[1;33m(\u001b[0m\u001b[0mself\u001b[0m\u001b[1;33m.\u001b[0m\u001b[0msignature\u001b[0m\u001b[1;33m.\u001b[0m\u001b[0mname\u001b[0m\u001b[1;33m)\u001b[0m\u001b[1;33m,\u001b[0m\u001b[1;33m\u001b[0m\u001b[1;33m\u001b[0m\u001b[0m\n\u001b[0;32m    593\u001b[0m               \u001b[0mnum_outputs\u001b[0m\u001b[1;33m=\u001b[0m\u001b[0mself\u001b[0m\u001b[1;33m.\u001b[0m\u001b[0m_num_outputs\u001b[0m\u001b[1;33m,\u001b[0m\u001b[1;33m\u001b[0m\u001b[1;33m\u001b[0m\u001b[0m\n",
      "\u001b[1;32mc:\\users\\uriks\\pycharmprojects\\identification-of-drawings\\venv\\lib\\site-packages\\tensorflow\\python\\eager\\execute.py\u001b[0m in \u001b[0;36mquick_execute\u001b[1;34m(op_name, num_outputs, inputs, attrs, ctx, name)\u001b[0m\n\u001b[0;32m     57\u001b[0m   \u001b[1;32mtry\u001b[0m\u001b[1;33m:\u001b[0m\u001b[1;33m\u001b[0m\u001b[1;33m\u001b[0m\u001b[0m\n\u001b[0;32m     58\u001b[0m     \u001b[0mctx\u001b[0m\u001b[1;33m.\u001b[0m\u001b[0mensure_initialized\u001b[0m\u001b[1;33m(\u001b[0m\u001b[1;33m)\u001b[0m\u001b[1;33m\u001b[0m\u001b[1;33m\u001b[0m\u001b[0m\n\u001b[1;32m---> 59\u001b[1;33m     tensors = pywrap_tfe.TFE_Py_Execute(ctx._handle, device_name, op_name,\n\u001b[0m\u001b[0;32m     60\u001b[0m                                         inputs, attrs, num_outputs)\n\u001b[0;32m     61\u001b[0m   \u001b[1;32mexcept\u001b[0m \u001b[0mcore\u001b[0m\u001b[1;33m.\u001b[0m\u001b[0m_NotOkStatusException\u001b[0m \u001b[1;32mas\u001b[0m \u001b[0me\u001b[0m\u001b[1;33m:\u001b[0m\u001b[1;33m\u001b[0m\u001b[1;33m\u001b[0m\u001b[0m\n",
      "\u001b[1;31mInvalidArgumentError\u001b[0m:  All labels must be nonnegative integers, batch: 69 labels: 25,-1,-1,0,34,-1,-1,-1,2,0,25,-1,-1,0,34,-1,-1,-1,0,5,4,4,5,11\n\t [[node model_4/ctc/CTCLoss (defined at C:\\Users\\uriks\\AppData\\Local\\Temp/ipykernel_2660/496030596.py:7) ]] [Op:__inference_train_function_17276]\n\nFunction call stack:\ntrain_function\n"
     ]
    }
   ],
   "source": [
    "# the loss calculation occurs elsewhere, so we use a dummy lambda function for the loss\n",
    "model_final.compile(loss={'ctc': lambda y_true, y_pred: y_pred}, optimizer=Adam(lr = 0.0001))\n",
    "\n",
    "model_final.fit(x=[train_x, train_y, train_input_len, train_label_len], y=train_output, \n",
    "                validation_data=([test_x, test_y, test_input_len, test_label_len], test_output),\n",
    "                epochs=5, batch_size=128)"
   ]
  },
  {
   "cell_type": "code",
   "execution_count": 61,
   "id": "67d2a070-cd34-4e68-9dec-ebc414080a72",
   "metadata": {},
   "outputs": [
    {
     "name": "stdout",
     "output_type": "stream",
     "text": [
      "49\n",
      "49\n",
      "49\n",
      "49\n"
     ]
    }
   ],
   "source": [
    "# for list_ in [train_x, train_y, train_input_len, train_label_len]:\n",
    "for list_ in [test_x, test_y, test_input_len, test_label_len]:\n",
    "    print(len(list_))"
   ]
  },
  {
   "cell_type": "code",
   "execution_count": null,
   "id": "ebc849cc-70db-441d-be59-b94b4b4772ac",
   "metadata": {},
   "outputs": [],
   "source": []
  }
 ],
 "metadata": {
  "kernelspec": {
   "display_name": "Python 3 (ipykernel)",
   "language": "python",
   "name": "python3"
  },
  "language_info": {
   "codemirror_mode": {
    "name": "ipython",
    "version": 3
   },
   "file_extension": ".py",
   "mimetype": "text/x-python",
   "name": "python",
   "nbconvert_exporter": "python",
   "pygments_lexer": "ipython3",
   "version": "3.9.6"
  }
 },
 "nbformat": 4,
 "nbformat_minor": 5
}
